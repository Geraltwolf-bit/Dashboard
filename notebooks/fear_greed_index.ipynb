{
 "cells": [
  {
   "cell_type": "code",
   "execution_count": 1,
   "id": "5edf5efd",
   "metadata": {},
   "outputs": [],
   "source": [
    "import sys\n",
    "sys.path.append('../src')\n",
    "from constants import fg_today_url, fg_year_url\n",
    "from functions import format_timedelta\n",
    "\n",
    "import requests\n",
    "import pandas as pd\n",
    "import logging\n",
    "from datetime import datetime\n",
    "from typing import Union\n",
    "\n",
    "logging.basicConfig(level=logging.ERROR)\n",
    "logger = logging.getLogger(__name__)\n",
    "\n",
    "def get_df_fg_index_today(\n",
    "    url: str,\n",
    "    timeout: int = 10,\n",
    "    format: str = 'json'\n",
    ") -> Union[pd.DataFrame, None]:\n",
    "    \"\"\"\n",
    "    Fetch Fear & Greed index and return dataframe with:\n",
    "    - current date,\n",
    "    - numerical index in the range 0-100,\n",
    "    - index (Extreme Fear, Fear, Greed, Extreme Greed),\n",
    "    - date,\n",
    "    - time untill update.\n",
    "    \"\"\"\n",
    "    url = url.format(format=format)\n",
    "    try:\n",
    "        response = requests.get(url, timeout=timeout).json()\n",
    "        df_list = response['data']\n",
    "        df = pd.DataFrame(df_list)\n",
    "\n",
    "        df['timestamp'] = pd.to_numeric(df['timestamp'])\n",
    "        df['timestamp'] = pd.to_datetime(df['timestamp'], unit='s').dt.date\n",
    "\n",
    "        df['time_until_update'] = pd.to_numeric(df['time_until_update'])\n",
    "        df['time_until_update'] = pd.to_timedelta(df['time_until_update'], unit='s')\n",
    "        df['time_until_update'] = format_timedelta(df['time_until_update'])\n",
    "\n",
    "        df = df.rename(columns={'value': 'fg_index_num',\n",
    "                                'value_classification': 'fg_index_str',\n",
    "                                'timestamp': 'date_index'\n",
    "                                })\n",
    "        return df\n",
    "    except requests.exceptions.RequestException as e:\n",
    "        logger.error(\"Error getting Fear & Greed data: %s\", e)\n",
    "        return None"
   ]
  },
  {
   "cell_type": "code",
   "execution_count": 2,
   "id": "d9eed728",
   "metadata": {},
   "outputs": [
    {
     "data": {
      "text/html": [
       "<div>\n",
       "<style scoped>\n",
       "    .dataframe tbody tr th:only-of-type {\n",
       "        vertical-align: middle;\n",
       "    }\n",
       "\n",
       "    .dataframe tbody tr th {\n",
       "        vertical-align: top;\n",
       "    }\n",
       "\n",
       "    .dataframe thead th {\n",
       "        text-align: right;\n",
       "    }\n",
       "</style>\n",
       "<table border=\"1\" class=\"dataframe\">\n",
       "  <thead>\n",
       "    <tr style=\"text-align: right;\">\n",
       "      <th></th>\n",
       "      <th>fg_index_num</th>\n",
       "      <th>fg_index_str</th>\n",
       "      <th>date_index</th>\n",
       "      <th>time_until_update</th>\n",
       "    </tr>\n",
       "  </thead>\n",
       "  <tbody>\n",
       "    <tr>\n",
       "      <th>0</th>\n",
       "      <td>22</td>\n",
       "      <td>Extreme Fear</td>\n",
       "      <td>2025-10-17</td>\n",
       "      <td>4 hours and 37 minutes</td>\n",
       "    </tr>\n",
       "  </tbody>\n",
       "</table>\n",
       "</div>"
      ],
      "text/plain": [
       "  fg_index_num  fg_index_str  date_index       time_until_update\n",
       "0           22  Extreme Fear  2025-10-17  4 hours and 37 minutes"
      ]
     },
     "execution_count": 2,
     "metadata": {},
     "output_type": "execute_result"
    }
   ],
   "source": [
    "df = get_df_fg_index_today(fg_today_url)\n",
    "df"
   ]
  }
 ],
 "metadata": {
  "kernelspec": {
   "display_name": "venv",
   "language": "python",
   "name": "python3"
  },
  "language_info": {
   "codemirror_mode": {
    "name": "ipython",
    "version": 3
   },
   "file_extension": ".py",
   "mimetype": "text/x-python",
   "name": "python",
   "nbconvert_exporter": "python",
   "pygments_lexer": "ipython3",
   "version": "3.12.3"
  }
 },
 "nbformat": 4,
 "nbformat_minor": 5
}
